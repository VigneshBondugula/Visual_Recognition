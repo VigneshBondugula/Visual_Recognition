{
  "cells": [
    {
      "cell_type": "code",
      "execution_count": 1,
      "metadata": {
        "id": "YKWd_LYUaxHP"
      },
      "outputs": [],
      "source": [
        "from __future__ import unicode_literals, print_function, division\n",
        "import numpy as np\n",
        "import torch\n",
        "from torch import nn"
      ]
    },
    {
      "cell_type": "code",
      "execution_count": 2,
      "metadata": {
        "id": "9TUbpJ8gWiLP"
      },
      "outputs": [],
      "source": [
        "class DataReader:\n",
        "  def __init__(self):\n",
        "    self.data = \"Acknowledgement\"\n",
        "    chars = list(set(self.data))\n",
        "    chars.append(\" \")\n",
        "    self.char_to_ix = {ch:i for (i,ch) in enumerate(chars)}\n",
        "    self.ix_to_char = {i:ch for (i,ch) in enumerate(chars)}\n",
        "    self.seq_length = len(self.data)\n",
        "    self.vocab_size = len(chars)\n",
        "\n",
        "  def get_inputs_targets(self, data):\n",
        "   inputs_str = data\n",
        "   target_str = data[1:]    \n",
        "   target_str = target_str + \" \"\n",
        "   inputs = [self.char_to_ix[ch] for ch in inputs_str] \n",
        "   targets = [self.char_to_ix[ch] for ch in target_str]\n",
        "   return inputs, targets\n",
        "\n",
        "datareader = DataReader()\n",
        "input_seq, target_seq = datareader.get_inputs_targets(datareader.data)\n"
      ]
    },
    {
      "cell_type": "code",
      "execution_count": 3,
      "metadata": {
        "id": "udz0RjYQoRTK"
      },
      "outputs": [],
      "source": [
        "dict_size = len(datareader.char_to_ix)\n",
        "seq_len = datareader.seq_length\n",
        "batch_size = 1\n",
        "\n",
        "features = np.zeros((batch_size, seq_len, dict_size), dtype=np.float32)\n",
        "for i in range(batch_size):\n",
        "    for u in range(seq_len):\n",
        "        features[i, u, input_seq[u]] = 1\n",
        "\n",
        "input_seq = torch.from_numpy(features)\n",
        "target_seq = torch.Tensor(target_seq)"
      ]
    },
    {
      "cell_type": "code",
      "execution_count": 4,
      "metadata": {
        "id": "-fKmKDoFoRTO"
      },
      "outputs": [],
      "source": [
        "class Model(nn.Module):\n",
        "    def __init__(self, input_size, output_size, hidden_dim, n_layers):\n",
        "        super(Model, self).__init__()\n",
        "        self.hidden_dim = hidden_dim\n",
        "        self.n_layers = n_layers\n",
        "        self.rnn = nn.RNN(input_size, hidden_dim, n_layers, batch_first=True)   \n",
        "        self.fc = nn.Linear(hidden_dim, output_size)\n",
        "    \n",
        "    def forward(self, x):\n",
        "        batch_size = x.size(0)\n",
        "        hidden = self.init_hidden(batch_size)\n",
        "        out, hidden = self.rnn(x, hidden)\n",
        "        out = out.contiguous().view(-1, self.hidden_dim)\n",
        "        out = self.fc(out)\n",
        "        return out, hidden\n",
        "    \n",
        "    def init_hidden(self, batch_size):\n",
        "        hidden = torch.zeros(self.n_layers, batch_size, self.hidden_dim)\n",
        "        return hidden"
      ]
    },
    {
      "cell_type": "code",
      "execution_count": 5,
      "metadata": {
        "id": "_JtuTUXMoRTP"
      },
      "outputs": [],
      "source": [
        "model = Model(input_size=dict_size, output_size=dict_size, hidden_dim=5, n_layers=1)\n",
        "\n",
        "n_epochs = 5000\n",
        "lr = 0.01\n",
        "\n",
        "criterion = nn.CrossEntropyLoss()\n",
        "optimizer = torch.optim.Adam(model.parameters(), lr=lr)"
      ]
    },
    {
      "cell_type": "code",
      "execution_count": 6,
      "metadata": {
        "colab": {
          "base_uri": "https://localhost:8080/"
        },
        "id": "QdwJDcf7oRTR",
        "outputId": "f017aef2-2e0b-49d5-ae74-87983a1285e3"
      },
      "outputs": [
        {
          "output_type": "stream",
          "name": "stdout",
          "text": [
            "Epoch: 250/5000............. Loss: 0.0760\n",
            "Epoch: 500/5000............. Loss: 0.0231\n",
            "Epoch: 750/5000............. Loss: 0.0118\n",
            "Epoch: 1000/5000............. Loss: 0.0072\n",
            "Epoch: 1250/5000............. Loss: 0.0048\n",
            "Epoch: 1500/5000............. Loss: 0.0035\n",
            "Epoch: 1750/5000............. Loss: 0.0026\n",
            "Epoch: 2000/5000............. Loss: 0.0020\n",
            "Epoch: 2250/5000............. Loss: 0.0016\n",
            "Epoch: 2500/5000............. Loss: 0.0013\n",
            "Epoch: 2750/5000............. Loss: 0.0010\n",
            "Epoch: 3000/5000............. Loss: 0.0009\n",
            "Epoch: 3250/5000............. Loss: 0.0007\n",
            "Epoch: 3500/5000............. Loss: 0.0006\n",
            "Epoch: 3750/5000............. Loss: 0.0005\n",
            "Epoch: 4000/5000............. Loss: 0.0004\n",
            "Epoch: 4250/5000............. Loss: 0.0004\n",
            "Epoch: 4500/5000............. Loss: 0.0003\n",
            "Epoch: 4750/5000............. Loss: 0.0003\n",
            "Epoch: 5000/5000............. Loss: 0.0002\n"
          ]
        }
      ],
      "source": [
        "losses = []\n",
        "iterations = []\n",
        "for epoch in range(1, n_epochs + 1):\n",
        "    optimizer.zero_grad() \n",
        "    output, hidden = model(input_seq)\n",
        "    loss = criterion(output, target_seq.view(-1).long())\n",
        "    loss.backward()\n",
        "    optimizer.step() \n",
        "    \n",
        "    if epoch%250 == 0:\n",
        "        print('Epoch: {}/{}.............'.format(epoch, n_epochs), end=' ')\n",
        "        print(\"Loss: {:.4f}\".format(loss.item()))\n",
        "        losses.append(loss.item())\n",
        "        iterations.append(epoch)\n",
        "\n"
      ]
    },
    {
      "cell_type": "code",
      "source": [
        "import matplotlib.pyplot as plt\n",
        "plt.xlabel(\"Iterations\")\n",
        "plt.ylabel(\"Loss\")\n",
        "plt.plot(iterations, losses)"
      ],
      "metadata": {
        "colab": {
          "base_uri": "https://localhost:8080/",
          "height": 297
        },
        "id": "OOPRSPoRukHJ",
        "outputId": "adf72c81-6467-4100-99c8-7005dd9fc9f4"
      },
      "execution_count": 7,
      "outputs": [
        {
          "output_type": "execute_result",
          "data": {
            "text/plain": [
              "[<matplotlib.lines.Line2D at 0x7fe49029b410>]"
            ]
          },
          "metadata": {},
          "execution_count": 7
        },
        {
          "output_type": "display_data",
          "data": {
            "text/plain": [
              "<Figure size 432x288 with 1 Axes>"
            ],
            "image/png": "[encoded data removed]"
          },
          "metadata": {
            "needs_background": "light"
          }
        }
      ]
    },
    {
      "cell_type": "code",
      "execution_count": 8,
      "metadata": {
        "id": "TbEG_mE0oRTS"
      },
      "outputs": [],
      "source": [
        "def predict(model, character):\n",
        "    character = np.array([datareader.char_to_ix[c] for c in character])\n",
        "    features = np.zeros((batch_size, len(character), dict_size), dtype=np.float32)\n",
        "    for i in range(batch_size):\n",
        "        for u in range(len(character)):\n",
        "            features[i, u, character[u]] = 1    \n",
        "    character = torch.from_numpy(features)\n",
        "    \n",
        "    out, hidden = model(character)\n",
        "\n",
        "    prob = nn.functional.softmax(out[-1], dim=0).data\n",
        "    char_ind = torch.max(prob, dim=0)[1].item()\n",
        "\n",
        "    return datareader.ix_to_char[char_ind], hidden"
      ]
    },
    {
      "cell_type": "code",
      "execution_count": 9,
      "metadata": {
        "colab": {
          "base_uri": "https://localhost:8080/"
        },
        "id": "Y-6eVfGioRTU",
        "outputId": "c01203d1-4883-46da-fc86-f124630a03cf"
      },
      "outputs": [
        {
          "output_type": "stream",
          "name": "stdout",
          "text": [
            "Predicted: Acknowledgement\n"
          ]
        }
      ],
      "source": [
        "start = \"A\"\n",
        "seq_len = datareader.seq_length\n",
        "model.eval()\n",
        "chars = [ch for ch in start]\n",
        "size = seq_len - len(chars)\n",
        "i = 0\n",
        "while i<size:\n",
        "    char, h = predict(model, chars)\n",
        "    chars.append(char)\n",
        "    i+=1\n",
        "\n",
        "print(\"Predicted: \" + ''.join(chars))"
      ]
    }
  ],
  "metadata": {
    "interpreter": {
      "hash": "31f2aee4e71d21fbe5cf8b01ff0e069b9275f58929596ceb00d14d90e3e16cd6"
    },
    "kernelspec": {
      "display_name": "Python 3.6.9 64-bit",
      "name": "python3"
    },
    "language_info": {
      "codemirror_mode": {
        "name": "ipython",
        "version": 3
      },
      "file_extension": ".py",
      "mimetype": "text/x-python",
      "name": "python",
      "nbconvert_exporter": "python",
      "pygments_lexer": "ipython3",
      "version": "3.6.9"
    },
    "orig_nbformat": 4,
    "colab": {
      "name": "RNN_pytorch.ipynb",
      "provenance": [],
      "collapsed_sections": []
    }
  },
  "nbformat": 4,
  "nbformat_minor": 0
}