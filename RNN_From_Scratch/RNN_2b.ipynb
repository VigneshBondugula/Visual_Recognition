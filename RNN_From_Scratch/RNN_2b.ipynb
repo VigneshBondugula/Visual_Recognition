{
  "cells": [
    {
      "cell_type": "code",
      "execution_count": 69,
      "metadata": {
        "id": "YKWd_LYUaxHP"
      },
      "outputs": [],
      "source": [
        "from __future__ import unicode_literals, print_function, division\n",
        "import numpy as np\n",
        "import torch\n",
        "from torch import nn"
      ]
    },
    {
      "cell_type": "code",
      "execution_count": 70,
      "metadata": {
        "id": "9TUbpJ8gWiLP"
      },
      "outputs": [],
      "source": [
        "class DataReader:\n",
        "  def __init__(self):\n",
        "    self.data = \"Acknowledgement\"\n",
        "    chars = list(set(self.data))\n",
        "    chars.append(\" \")\n",
        "    self.char_to_ix = {ch:i for (i,ch) in enumerate(chars)}\n",
        "    self.ix_to_char = {i:ch for (i,ch) in enumerate(chars)}\n",
        "    self.seq_length = len(self.data)\n",
        "    self.vocab_size = len(chars)\n",
        "\n",
        "  def get_inputs_targets(self, data):\n",
        "   inputs_str = data\n",
        "   target_str = data[1:]    \n",
        "   target_str = target_str + \" \"\n",
        "   inputs = [self.char_to_ix[ch] for ch in inputs_str] \n",
        "   targets = [self.char_to_ix[ch] for ch in target_str]\n",
        "   return inputs, targets\n",
        "\n",
        "datareader = DataReader()\n",
        "input_seq, target_seq = datareader.get_inputs_targets(datareader.data)\n"
      ]
    },
    {
      "cell_type": "code",
      "execution_count": 71,
      "metadata": {
        "id": "udz0RjYQoRTK"
      },
      "outputs": [],
      "source": [
        "dict_size = len(datareader.char_to_ix)\n",
        "seq_len = datareader.seq_length\n",
        "batch_size = 1\n",
        "\n",
        "features = np.zeros((batch_size, seq_len, dict_size), dtype=np.float32)\n",
        "for i in range(batch_size):\n",
        "    for u in range(seq_len):\n",
        "        features[i, u, input_seq[u]] = 1\n",
        "\n",
        "input_seq = torch.from_numpy(features)\n",
        "target_seq = torch.Tensor(target_seq)"
      ]
    },
    {
      "cell_type": "code",
      "execution_count": 72,
      "metadata": {
        "id": "-fKmKDoFoRTO"
      },
      "outputs": [],
      "source": [
        "class Model(nn.Module):\n",
        "    def __init__(self, input_size, output_size, hidden_dim, n_layers):\n",
        "        super(Model, self).__init__()\n",
        "        self.hidden_dim = hidden_dim\n",
        "        self.n_layers = n_layers\n",
        "        self.rnn = nn.RNN(input_size, hidden_dim, n_layers, batch_first=True)   \n",
        "        self.fc = nn.Linear(hidden_dim, output_size)\n",
        "    \n",
        "    def forward(self, x, hidden):\n",
        "        batch_size = x.size(0)\n",
        "        if hidden is None:\n",
        "          hidden = self.init_hidden(batch_size)\n",
        "        else: \n",
        "          hidden = hidden\n",
        "        out, hidden = self.rnn(x, hidden)\n",
        "        out = out.contiguous().view(-1, self.hidden_dim)\n",
        "        out = self.fc(out)\n",
        "        return out, hidden\n",
        "    \n",
        "    def init_hidden(self, batch_size):\n",
        "        hidden = torch.zeros(self.n_layers, batch_size, self.hidden_dim)\n",
        "        return hidden"
      ]
    },
    {
      "cell_type": "code",
      "execution_count": 73,
      "metadata": {
        "id": "_JtuTUXMoRTP"
      },
      "outputs": [],
      "source": [
        "model = Model(input_size=dict_size, output_size=dict_size, hidden_dim=5, n_layers=1)\n",
        "\n",
        "n_epochs = 10000\n",
        "lr = 0.09\n",
        "\n",
        "criterion = nn.CrossEntropyLoss()\n",
        "optimizer = torch.optim.SGD(model.parameters(), lr=lr)"
      ]
    },
    {
      "cell_type": "code",
      "execution_count": 74,
      "metadata": {
        "colab": {
          "base_uri": "https://localhost:8080/"
        },
        "id": "QdwJDcf7oRTR",
        "outputId": "622c782b-9833-472b-f749-64435ffde643"
      },
      "outputs": [
        {
          "output_type": "stream",
          "name": "stdout",
          "text": [
            "Epoch: 250/10000............. Loss: 1.0653\n",
            "Epoch: 500/10000............. Loss: 0.4929\n",
            "Epoch: 750/10000............. Loss: 0.2790\n",
            "Epoch: 1000/10000............. Loss: 0.1582\n",
            "Epoch: 1250/10000............. Loss: 0.1056\n",
            "Epoch: 1500/10000............. Loss: 0.0787\n",
            "Epoch: 1750/10000............. Loss: 0.0627\n",
            "Epoch: 2000/10000............. Loss: 0.0520\n",
            "Epoch: 2250/10000............. Loss: 0.0444\n",
            "Epoch: 2500/10000............. Loss: 0.0387\n",
            "Epoch: 2750/10000............. Loss: 0.0343\n",
            "Epoch: 3000/10000............. Loss: 0.0307\n",
            "Epoch: 3250/10000............. Loss: 0.0279\n",
            "Epoch: 3500/10000............. Loss: 0.0255\n",
            "Epoch: 3750/10000............. Loss: 0.0235\n",
            "Epoch: 4000/10000............. Loss: 0.0218\n",
            "Epoch: 4250/10000............. Loss: 0.0203\n",
            "Epoch: 4500/10000............. Loss: 0.0190\n",
            "Epoch: 4750/10000............. Loss: 0.0179\n",
            "Epoch: 5000/10000............. Loss: 0.0168\n",
            "Epoch: 5250/10000............. Loss: 0.0159\n",
            "Epoch: 5500/10000............. Loss: 0.0151\n",
            "Epoch: 5750/10000............. Loss: 0.0144\n",
            "Epoch: 6000/10000............. Loss: 0.0137\n",
            "Epoch: 6250/10000............. Loss: 0.0131\n",
            "Epoch: 6500/10000............. Loss: 0.0126\n",
            "Epoch: 6750/10000............. Loss: 0.0121\n",
            "Epoch: 7000/10000............. Loss: 0.0116\n",
            "Epoch: 7250/10000............. Loss: 0.0112\n",
            "Epoch: 7500/10000............. Loss: 0.0108\n",
            "Epoch: 7750/10000............. Loss: 0.0104\n",
            "Epoch: 8000/10000............. Loss: 0.0100\n",
            "Epoch: 8250/10000............. Loss: 0.0097\n",
            "Epoch: 8500/10000............. Loss: 0.0094\n",
            "Epoch: 8750/10000............. Loss: 0.0091\n",
            "Epoch: 9000/10000............. Loss: 0.0088\n",
            "Epoch: 9250/10000............. Loss: 0.0086\n",
            "Epoch: 9500/10000............. Loss: 0.0083\n",
            "Epoch: 9750/10000............. Loss: 0.0081\n",
            "Epoch: 10000/10000............. Loss: 0.0079\n"
          ]
        }
      ],
      "source": [
        "losses = []\n",
        "iterations = []\n",
        "for epoch in range(1, n_epochs + 1):\n",
        "    optimizer.zero_grad() \n",
        "    output, hidden = model(input_seq, None)\n",
        "    loss = criterion(output, target_seq.view(-1).long())\n",
        "    loss.backward()\n",
        "    optimizer.step() \n",
        "    \n",
        "    if epoch%250 == 0:\n",
        "        print('Epoch: {}/{}.............'.format(epoch, n_epochs), end=' ')\n",
        "        print(\"Loss: {:.4f}\".format(loss.item()))\n",
        "        losses.append(loss.item())\n",
        "        iterations.append(epoch)\n",
        "\n"
      ]
    },
    {
      "cell_type": "code",
      "source": [
        "import matplotlib.pyplot as plt\n",
        "plt.xlabel(\"Iterations\")\n",
        "plt.ylabel(\"Loss\")\n",
        "plt.plot(iterations, losses)"
      ],
      "metadata": {
        "colab": {
          "base_uri": "https://localhost:8080/",
          "height": 297
        },
        "id": "OOPRSPoRukHJ",
        "outputId": "3cbf4615-1281-4de4-ca66-e868276edfe8"
      },
      "execution_count": 75,
      "outputs": [
        {
          "output_type": "execute_result",
          "data": {
            "text/plain": [
              "[<matplotlib.lines.Line2D at 0x7f8dc6d34a10>]"
            ]
          },
          "metadata": {},
          "execution_count": 75
        },
        {
          "output_type": "display_data",
          "data": {
            "text/plain": [
              "<Figure size 432x288 with 1 Axes>"
            ],
            "image/png": "[encoded data removed]"
          },
          "metadata": {
            "needs_background": "light"
          }
        }
      ]
    },
    {
      "cell_type": "code",
      "source": [
        "def predict(character, predict_len):\n",
        "        data = datareader.data\n",
        "        hidden = None\n",
        "        header = \"\"\n",
        "        for i in range(len(data)):\n",
        "            if data[i] != character[0]:\n",
        "                header += data[i]\n",
        "            else:\n",
        "                break \n",
        "\n",
        "        if header != \"\":\n",
        "            header = np.array([datareader.char_to_ix[c] for c in header])\n",
        "            features = np.zeros((batch_size, len(header), dict_size), dtype=np.float32)\n",
        "            for i in range(batch_size):\n",
        "                for u in range(len(header)):\n",
        "                    features[i, u, header[u]] = 1    \n",
        "            data = torch.from_numpy(features)\n",
        "            op1, hidden = model.forward(data, None)\n",
        "\n",
        "        for i in range(predict_len):\n",
        "            char = np.array([datareader.char_to_ix[c] for c in character])\n",
        "            features = np.zeros((batch_size, len(character), dict_size), dtype=np.float32)\n",
        "            for i in range(batch_size):\n",
        "                for u in range(len(char)):\n",
        "                    features[i, u, char[u]] = 1    \n",
        "            char = torch.from_numpy(features)\n",
        "            output, hid = model.forward(char, hidden)\n",
        "            prob = nn.functional.softmax(output[-1], dim=0).data\n",
        "            ind = torch.max(prob, dim=0)[1].item()\n",
        "            character += datareader.ix_to_char[ind]\n",
        "        return character"
      ],
      "metadata": {
        "id": "dTsEUl0Ulmjl"
      },
      "execution_count": 76,
      "outputs": []
    },
    {
      "cell_type": "code",
      "source": [
        "predict('A', datareader.seq_length)"
      ],
      "metadata": {
        "colab": {
          "base_uri": "https://localhost:8080/",
          "height": 35
        },
        "id": "SbmHC4lBmLdJ",
        "outputId": "bed48b3f-2590-4dfc-9688-7e16b5c3aa1c"
      },
      "execution_count": 77,
      "outputs": [
        {
          "output_type": "execute_result",
          "data": {
            "text/plain": [
              "'Acknowledgement '"
            ],
            "application/vnd.google.colaboratory.intrinsic+json": {
              "type": "string"
            }
          },
          "metadata": {},
          "execution_count": 77
        }
      ]
    },
    {
      "cell_type": "code",
      "source": [
        "predict('e', 8)"
      ],
      "metadata": {
        "colab": {
          "base_uri": "https://localhost:8080/",
          "height": 35
        },
        "id": "Fv5KWEX5mR5x",
        "outputId": "1498597e-90ec-48b2-838d-dffa92c6d0cb"
      },
      "execution_count": 78,
      "outputs": [
        {
          "output_type": "execute_result",
          "data": {
            "text/plain": [
              "'edgement '"
            ],
            "application/vnd.google.colaboratory.intrinsic+json": {
              "type": "string"
            }
          },
          "metadata": {},
          "execution_count": 78
        }
      ]
    }
  ],
  "metadata": {
    "interpreter": {
      "hash": "31f2aee4e71d21fbe5cf8b01ff0e069b9275f58929596ceb00d14d90e3e16cd6"
    },
    "kernelspec": {
      "display_name": "Python 3.6.9 64-bit",
      "name": "python3"
    },
    "language_info": {
      "codemirror_mode": {
        "name": "ipython",
        "version": 3
      },
      "file_extension": ".py",
      "mimetype": "text/x-python",
      "name": "python",
      "nbconvert_exporter": "python",
      "pygments_lexer": "ipython3",
      "version": "3.6.9"
    },
    "orig_nbformat": 4,
    "colab": {
      "name": "RNN_2b.ipynb",
      "provenance": [],
      "collapsed_sections": []
    }
  },
  "nbformat": 4,
  "nbformat_minor": 0
}